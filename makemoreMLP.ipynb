{
 "cells": [
  {
   "cell_type": "markdown",
   "id": "07b94867",
   "metadata": {},
   "source": [
    "## MLP "
   ]
  },
  {
   "cell_type": "markdown",
   "id": "ce91fd80",
   "metadata": {},
   "source": [
    "The following model will be built out following a similar vein as the Bengio et al. 2003 paper. The main goal of this model when compared to the previous bigram/basic neural net is to increase the amount of context we can use to predict the next token."
   ]
  },
  {
   "cell_type": "code",
   "execution_count": 1,
   "id": "95686e8d",
   "metadata": {},
   "outputs": [],
   "source": [
    "import torch \n",
    "import matplotlib.pyplot as plt\n",
    "import torch.nn.functional as F\n"
   ]
  },
  {
   "cell_type": "code",
   "execution_count": 2,
   "id": "5807d621",
   "metadata": {},
   "outputs": [
    {
     "data": {
      "text/plain": [
       "['emma', 'olivia', 'ava', 'isabella']"
      ]
     },
     "execution_count": 2,
     "metadata": {},
     "output_type": "execute_result"
    }
   ],
   "source": [
    "data = open(\"names.txt\", 'r').read().splitlines()\n",
    "data[:4]"
   ]
  },
  {
   "cell_type": "code",
   "execution_count": 10,
   "id": "64204836",
   "metadata": {},
   "outputs": [],
   "source": [
    "chars = ['a', 'b', 'c', 'd', 'e', 'f', 'g', 'h', 'i', 'j', 'k', 'l', 'm', 'n', 'o', 'p', 'q', 'r', 's', 't', 'u', 'v', 'w', 'x', 'y', 'z']\n",
    "stringtoint = {s:i + 1 for i,s in enumerate(chars)}\n",
    "stringtoint[\".\"] = 0\n",
    "inttostring = {i: s for s,i in stringtoint.items()}"
   ]
  },
  {
   "cell_type": "code",
   "execution_count": 55,
   "id": "ef0d0e4a",
   "metadata": {},
   "outputs": [],
   "source": [
    "#Building out dataset for MLP\n",
    "block_size = 3 #how many characters are we using to predict the next one\n",
    "X, Y = [], []\n",
    "\n",
    "for name in data:\n",
    "    context = [0] * block_size\n",
    "    for character in name + '.':\n",
    "        index = stringtoint[character]\n",
    "        X.append(context) #setting \"labels\" (ie previous 3 characters) as X and corresponding output token in Y\n",
    "        Y.append(index)\n",
    "        \n",
    "        context = context[1:] + [index]\n",
    "\n",
    "X = torch.tensor(X)\n",
    "Y = torch.tensor(Y)\n",
    "#to interpret the output of X below, it is basically mapping 3 zeros (which represent ...) to e \n",
    "    #(which is seen when we check the output of Y) and ..e to m and so on and so forth"
   ]
  },
  {
   "cell_type": "code",
   "execution_count": 97,
   "id": "7fcebf94",
   "metadata": {},
   "outputs": [
    {
     "name": "stdout",
     "output_type": "stream",
     "text": [
      "torch.Size([182437, 3]) torch.Size([182437])\n",
      "torch.Size([22781, 3]) torch.Size([22781])\n",
      "torch.Size([22928, 3]) torch.Size([22928])\n"
     ]
    }
   ],
   "source": [
    "#Data splitting into train, val, test set\n",
    "def build_dataset(words):  \n",
    "  X, Y = [], []\n",
    "  for w in words:\n",
    "\n",
    "    #print(w)\n",
    "    context = [0] * block_size\n",
    "    for ch in w + '.':\n",
    "      ix = stringtoint[ch]\n",
    "      X.append(context)\n",
    "      Y.append(ix)\n",
    "      context = context[1:] + [ix] # crop and append\n",
    "\n",
    "  X = torch.tensor(X)\n",
    "  Y = torch.tensor(Y)\n",
    "  print(X.shape, Y.shape)\n",
    "  return X, Y\n",
    "\n",
    "import random\n",
    "random.seed(42)\n",
    "random.shuffle(data)\n",
    "#partitions data\n",
    "n1 = int(0.8*len(data))\n",
    "n2 = int(0.9*len(data))\n",
    "\n",
    "Xtr, Ytr = build_dataset(data[:n1])\n",
    "Xdev, Ydev = build_dataset(data[n1:n2])\n",
    "Xte, Yte = build_dataset(data[n2:])"
   ]
  },
  {
   "cell_type": "markdown",
   "id": "f12654b6",
   "metadata": {},
   "source": [
    "Building a look up table below, where we are embedding 27 characters into a 2-dimension space. A quick note on OHE: notice that because of the way matrix multiplication work, one hot encoding a specific number (say 5) into a vector with 27 rows (every val is 0 except the value at index 5 is 1) and then multiplying it by C (our look up table) basically plucks out the 5th row from the look up table. In principle, it's exactly the same as doing C[5]."
   ]
  },
  {
   "cell_type": "code",
   "execution_count": 114,
   "id": "53cc999e",
   "metadata": {},
   "outputs": [],
   "source": [
    "C = torch.randn((27, 2))"
   ]
  },
  {
   "cell_type": "code",
   "execution_count": 115,
   "id": "06eb71b7",
   "metadata": {},
   "outputs": [],
   "source": [
    "#first part of forward pass\n",
    "#C[X] demonstrates the power of flexible indexing in PyTorch, as we are now embedding the 32x3 values in X into C. \n",
    "embed = C[Xtr]\n",
    "#weights initialization. The first value(6) is because we have 3*2 embeddings in C[X] and second val is a hyperparameter up to us\n",
    "W1 = torch.randn((6, 100))\n",
    "b1 = torch.randn(100)"
   ]
  },
  {
   "cell_type": "markdown",
   "id": "f7254811",
   "metadata": {},
   "source": [
    "Now ideally we would do something like embed @ W1 + b1 for the forward pass but the dimensions simply dont add up. To get around this we need to carefully consider what is going on in embed."
   ]
  },
  {
   "cell_type": "code",
   "execution_count": 19,
   "id": "b9cc6162",
   "metadata": {},
   "outputs": [
    {
     "data": {
      "text/plain": [
       "torch.Size([32, 3, 2])"
      ]
     },
     "execution_count": 19,
     "metadata": {},
     "output_type": "execute_result"
    }
   ],
   "source": [
    "embed.shape"
   ]
  },
  {
   "cell_type": "markdown",
   "id": "a65ae3ea",
   "metadata": {},
   "source": [
    "So for every token of context we have, we have the 32X2 embedding of it. Therefore, if we concatenate each individual 32X2 embed with each other, or dimensions should work. "
   ]
  },
  {
   "cell_type": "code",
   "execution_count": 25,
   "id": "59b1a65c",
   "metadata": {},
   "outputs": [],
   "source": [
    "joined_embed = torch.cat([embed[:, 0, :], embed[:, 1, :], embed[:, 2, :]], 1) #make sure to concatenate along 1st dimension(rows)"
   ]
  },
  {
   "cell_type": "code",
   "execution_count": 33,
   "id": "4b5cadc7",
   "metadata": {},
   "outputs": [
    {
     "data": {
      "text/plain": [
       "tensor([[-0.5612, -0.8499, -0.5612, -0.8499, -0.5612, -0.8499],\n",
       "        [-0.5612, -0.8499, -0.5612, -0.8499,  0.0990, -0.0852],\n",
       "        [-0.5612, -0.8499,  0.0990, -0.0852,  0.9018,  0.0855],\n",
       "        [ 0.0990, -0.0852,  0.9018,  0.0855,  0.9018,  0.0855],\n",
       "        [ 0.9018,  0.0855,  0.9018,  0.0855, -2.5156, -0.1977],\n",
       "        [-0.5612, -0.8499, -0.5612, -0.8499, -0.5612, -0.8499],\n",
       "        [-0.5612, -0.8499, -0.5612, -0.8499, -0.1301, -2.0280],\n",
       "        [-0.5612, -0.8499, -0.1301, -2.0280, -0.0391, -0.6572],\n",
       "        [-0.1301, -2.0280, -0.0391, -0.6572,  0.4338, -1.9269],\n",
       "        [-0.0391, -0.6572,  0.4338, -1.9269,  0.6729, -1.4200],\n",
       "        [ 0.4338, -1.9269,  0.6729, -1.4200,  0.4338, -1.9269],\n",
       "        [ 0.6729, -1.4200,  0.4338, -1.9269, -2.5156, -0.1977],\n",
       "        [-0.5612, -0.8499, -0.5612, -0.8499, -0.5612, -0.8499],\n",
       "        [-0.5612, -0.8499, -0.5612, -0.8499, -2.5156, -0.1977],\n",
       "        [-0.5612, -0.8499, -2.5156, -0.1977,  0.6729, -1.4200],\n",
       "        [-2.5156, -0.1977,  0.6729, -1.4200, -2.5156, -0.1977],\n",
       "        [-0.5612, -0.8499, -0.5612, -0.8499, -0.5612, -0.8499],\n",
       "        [-0.5612, -0.8499, -0.5612, -0.8499,  0.4338, -1.9269],\n",
       "        [-0.5612, -0.8499,  0.4338, -1.9269,  0.2376,  0.0112],\n",
       "        [ 0.4338, -1.9269,  0.2376,  0.0112, -2.5156, -0.1977],\n",
       "        [ 0.2376,  0.0112, -2.5156, -0.1977, -0.5639,  0.8563],\n",
       "        [-2.5156, -0.1977, -0.5639,  0.8563,  0.0990, -0.0852],\n",
       "        [-0.5639,  0.8563,  0.0990, -0.0852, -0.0391, -0.6572],\n",
       "        [ 0.0990, -0.0852, -0.0391, -0.6572, -0.0391, -0.6572],\n",
       "        [-0.0391, -0.6572, -0.0391, -0.6572, -2.5156, -0.1977],\n",
       "        [-0.5612, -0.8499, -0.5612, -0.8499, -0.5612, -0.8499],\n",
       "        [-0.5612, -0.8499, -0.5612, -0.8499,  0.2376,  0.0112],\n",
       "        [-0.5612, -0.8499,  0.2376,  0.0112, -0.1301, -2.0280],\n",
       "        [ 0.2376,  0.0112, -0.1301, -2.0280,  1.9632,  0.3426],\n",
       "        [-0.1301, -2.0280,  1.9632,  0.3426,  0.8254,  0.8704],\n",
       "        [ 1.9632,  0.3426,  0.8254,  0.8704,  0.4338, -1.9269],\n",
       "        [ 0.8254,  0.8704,  0.4338, -1.9269, -2.5156, -0.1977]])"
      ]
     },
     "execution_count": 33,
     "metadata": {},
     "output_type": "execute_result"
    }
   ],
   "source": [
    "embed.view(embed.shape[0], (embed.shape[1] * embed.shape[2])) #magic! it's a much more generalizable and efficient way than above."
   ]
  },
  {
   "cell_type": "code",
   "execution_count": 58,
   "id": "bc931f43",
   "metadata": {},
   "outputs": [],
   "source": [
    "#part of forward pass\n",
    "h = torch.tanh(embed.view(embed.shape[0], (embed.shape[1] * embed.shape[2]))@W1 + b1)"
   ]
  },
  {
   "cell_type": "markdown",
   "id": "6f95615b",
   "metadata": {},
   "source": [
    "Note the broadcasting semantics of the addition of b1 and the dot product of embed and weights. Remember, broadcasting tensors aligns them along the right dimension, creates a dummy \"1\" (if no dimension is present), then copies it n times (based on the left dim of the og tensor) and then performs an elementwise addition"
   ]
  },
  {
   "cell_type": "code",
   "execution_count": 116,
   "id": "10831da9",
   "metadata": {},
   "outputs": [],
   "source": [
    "#2nd part of forward pass\n",
    "W2 = torch.randn((100, 27)) #initializing weights and biases for second layer\n",
    "b2 = torch.randn(27)"
   ]
  },
  {
   "cell_type": "code",
   "execution_count": 41,
   "id": "8c277d7d",
   "metadata": {},
   "outputs": [],
   "source": [
    "logits = h@W2 + b2"
   ]
  },
  {
   "cell_type": "markdown",
   "id": "fc3e4abe",
   "metadata": {},
   "source": [
    "Remember we now need to perform the softmax, where we exponentiate(like creating counts) and then normalize the logits (effectively creating a probability distribution of counts)."
   ]
  },
  {
   "cell_type": "code",
   "execution_count": 46,
   "id": "260a2044",
   "metadata": {},
   "outputs": [
    {
     "name": "stdout",
     "output_type": "stream",
     "text": [
      "torch.Size([32, 27])\n",
      "True\n"
     ]
    }
   ],
   "source": [
    "counts = logits.exp()\n",
    "prob = counts/counts.sum(1, keepdims=True)\n",
    "print(prob.shape)\n",
    "print(prob[0].sum().item() == 1.0)\n",
    "print(prob)"
   ]
  },
  {
   "cell_type": "markdown",
   "id": "6d9721b7",
   "metadata": {},
   "source": [
    "The indexing into prob allows us to pluck out the probability distribution of the outputs of Y given the labels of X. We then construct our loss as negative log likelihood just like bigram. This is actually a very common action so we can use F.cross_entropy(logits, Y) and get the same result"
   ]
  },
  {
   "cell_type": "code",
   "execution_count": 51,
   "id": "cdc98474",
   "metadata": {},
   "outputs": [
    {
     "data": {
      "text/plain": [
       "tensor(19.6145)"
      ]
     },
     "execution_count": 51,
     "metadata": {},
     "output_type": "execute_result"
    }
   ],
   "source": [
    "#2nd part of forward pass\n",
    "l = -prob[torch.arange(32), Y].log().mean()\n",
    "loss = F.cross_entropy(logits, Y) #saves a lot of memory because we're not unneccesarily creating new tensors\n",
    "loss"
   ]
  },
  {
   "cell_type": "markdown",
   "id": "72db6d75",
   "metadata": {},
   "source": [
    "We can consolidate everything below into forward and backward pass. Now to find the exact eta/learning rate we need to do some experimentation to find the lower bound and upper bound. In the case of this model, it seems like 0.001 is the lower bound and after 1, the model doesn't converge. So we can do the following to find the best learning rate."
   ]
  },
  {
   "cell_type": "code",
   "execution_count": 81,
   "id": "f354b182",
   "metadata": {},
   "outputs": [],
   "source": [
    "learning_rate_exps = torch.linspace(-3, 0, 1000) #ensures that learning rates are distributed nicely\n",
    "lrs = 10**learning_rate_exps"
   ]
  },
  {
   "cell_type": "code",
   "execution_count": 117,
   "id": "e3061e1f",
   "metadata": {},
   "outputs": [
    {
     "name": "stdout",
     "output_type": "stream",
     "text": [
      "2.309349298477173\n"
     ]
    }
   ],
   "source": [
    "# lr_i = [] #keeping track of lrs to find best one\n",
    "# loss_i = []\n",
    "\n",
    "parameters = [C, W1, b1, W2, b2]\n",
    "for p in parameters:\n",
    "    p.requires_grad = True\n",
    "\n",
    "for i in range(30000):\n",
    "    \n",
    "    #minibatch construction: The idea behind minibatches is that its much better to compute the approximate gradient and make many more steps than to compute the exact gradient and take fewer steps.\n",
    "    ix = torch.randint(0, Xtr.shape[0], (32,))\n",
    "    \n",
    "    #forward pass\n",
    "    embed = C[Xtr[ix]]\n",
    "    h = torch.tanh(embed.view(embed.shape[0], (embed.shape[1] * embed.shape[2]))@W1 + b1)\n",
    "    logits = h@W2 + b2\n",
    "    loss = F.cross_entropy(logits, Ytr[ix])\n",
    "    \n",
    "    #backward pass\n",
    "    for p in parameters:\n",
    "        p.grad = None\n",
    "    loss.backward()\n",
    "    \n",
    "    #update\n",
    "    #lr = lrs[i]\n",
    "    lr = 0.1 #note: once we see that the current lr isn't making a dent in the loss, we can decay it to a smaller value. Think about why this makes sense intuitively. (it's because when we're deep in the valley we want to make smaller steps to converge on the minimum)\n",
    "    for p in parameters:\n",
    "        p.data += -lr * p.grad\n",
    "    \n",
    "    #keeping track of lrs to find best one\n",
    "#     lr_i.append(lr)\n",
    "#     loss_i.append(loss.item())\n",
    "    \n",
    "print(loss.item())"
   ]
  },
  {
   "cell_type": "code",
   "execution_count": 83,
   "id": "7ba4fa57",
   "metadata": {},
   "outputs": [
    {
     "data": {
      "text/plain": [
       "[<matplotlib.lines.Line2D at 0x7f9569d65af0>]"
      ]
     },
     "execution_count": 83,
     "metadata": {},
     "output_type": "execute_result"
    },
    {
     "data": {
      "image/png": "[encoded data removed]",
      "text/plain": [
       "<Figure size 640x480 with 1 Axes>"
      ]
     },
     "metadata": {},
     "output_type": "display_data"
    }
   ],
   "source": [
    "plt.plot(lr_i, loss_i) #seeing how lr affects loss"
   ]
  },
  {
   "cell_type": "markdown",
   "id": "90eb6f98",
   "metadata": {},
   "source": [
    "Note: In the above cells, I've changed it such that we're training only on Xtr and below will be evaluating the loss on Xdev. Based on the fact that our validation loss is pretty close to our train loss, we know we aren't overfitting. In fact, we're underfitting, which is a sign that our network is too weak. We can beef it up by having a larger hidden layer. "
   ]
  },
  {
   "cell_type": "code",
   "execution_count": 118,
   "id": "47663ade",
   "metadata": {},
   "outputs": [
    {
     "name": "stdout",
     "output_type": "stream",
     "text": [
      "2.4310379028320312\n"
     ]
    }
   ],
   "source": [
    "embed = C[Xdev]\n",
    "h = torch.tanh(embed.view(embed.shape[0], (embed.shape[1] * embed.shape[2]))@W1 + b1)\n",
    "logits = h@W2 + b2\n",
    "loss = F.cross_entropy(logits, Ydev)\n",
    "print(loss.item())"
   ]
  },
  {
   "cell_type": "markdown",
   "id": "975f3666",
   "metadata": {},
   "source": [
    "How should we think of the embedded space (in 2d). We can think about it as a space where the neural net learns to cluster letters that commonly appear with one another. For example, our neural network will cluster vowels close otgether in the embedded space because it has learned that they are \"interchangeable\" for lack of a better word. To improve our network, we can increase the size of our embedding space to make it more \"descriptive\". We can also tinker around with the learning rate (playing around with when it decays) and other optimization tunings such as how long we're training for and our batch sizes. Now for sampling from our model."
   ]
  },
  {
   "cell_type": "code",
   "execution_count": 121,
   "id": "ed2d2f37",
   "metadata": {},
   "outputs": [
    {
     "name": "stdout",
     "output_type": "stream",
     "text": [
      "nin.\n",
      "enen.\n",
      "reunne.\n",
      "yuvanevinlyn.\n",
      "kella.\n",
      "evyk.\n",
      "dyri.\n",
      "ysen.\n",
      "moshenterie.\n",
      "kinn.\n",
      "ril.\n",
      "bru.\n",
      "novynn.\n",
      "mra.\n",
      "deman.\n",
      "jeyn.\n",
      "praclem.\n",
      "caeden.\n",
      "azee.\n",
      "ker.\n"
     ]
    }
   ],
   "source": [
    "for _ in range(20):\n",
    "    \n",
    "    out = []\n",
    "    context = [0] * block_size # initialize with all ...\n",
    "    while True:\n",
    "      emb = C[torch.tensor([context])] # (1,block_size,d)\n",
    "      h = torch.tanh(emb.view(1, -1) @ W1 + b1)\n",
    "      logits = h @ W2 + b2\n",
    "      probs = F.softmax(logits, dim=1)\n",
    "      ix = torch.multinomial(probs, num_samples=1).item()\n",
    "      context = context[1:] + [ix]\n",
    "      out.append(ix)\n",
    "      if ix == 0:\n",
    "        break\n",
    "    \n",
    "    print(''.join(inttostring[i] for i in out))"
   ]
  },
  {
   "cell_type": "code",
   "execution_count": null,
   "id": "26e0e5f7",
   "metadata": {},
   "outputs": [],
   "source": []
  }
 ],
 "metadata": {
  "kernelspec": {
   "display_name": "Python 3 (ipykernel)",
   "language": "python",
   "name": "python3"
  },
  "language_info": {
   "codemirror_mode": {
    "name": "ipython",
    "version": 3
   },
   "file_extension": ".py",
   "mimetype": "text/x-python",
   "name": "python",
   "nbconvert_exporter": "python",
   "pygments_lexer": "ipython3",
   "version": "3.9.13"
  }
 },
 "nbformat": 4,
 "nbformat_minor": 5
}
