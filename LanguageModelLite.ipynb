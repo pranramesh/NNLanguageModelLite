{
 "cells": [
  {
   "cell_type": "markdown",
   "id": "0733bee5",
   "metadata": {},
   "source": [
    "## Bigram Language Model"
   ]
  },
  {
   "cell_type": "markdown",
   "id": "5e3100bf",
   "metadata": {},
   "source": [
    "The Bigram language model functions under a Markov assumption. The basic premise is that every letter has a probability distribution for what letters follow it, as well as whether it's at the beginning or ending of the name. It's a very simple Markov chain that chooses the next letter based on the letter immediately before it. We can randomly intialize a starting letter and build out the name from there. "
   ]
  },
  {
   "cell_type": "code",
   "execution_count": 1,
   "id": "705b98b5",
   "metadata": {},
   "outputs": [],
   "source": [
    "import torch \n",
    "import matplotlib.pyplot as plt"
   ]
  },
  {
   "cell_type": "code",
   "execution_count": 2,
   "id": "2bc9668d",
   "metadata": {},
   "outputs": [],
   "source": [
    "data = open(\"names.txt\", 'r').read().splitlines()"
   ]
  },
  {
   "cell_type": "code",
   "execution_count": 3,
   "id": "3b4b2930",
   "metadata": {},
   "outputs": [
    {
     "data": {
      "text/plain": [
       "['emma', 'olivia', 'ava', 'isabella']"
      ]
     },
     "execution_count": 3,
     "metadata": {},
     "output_type": "execute_result"
    }
   ],
   "source": [
    "data[:4]"
   ]
  },
  {
   "cell_type": "code",
   "execution_count": 4,
   "id": "0131268a",
   "metadata": {},
   "outputs": [
    {
     "name": "stdout",
     "output_type": "stream",
     "text": [
      "e m\n",
      "m m\n",
      "m a\n",
      "o l\n",
      "l i\n",
      "i v\n",
      "v i\n",
      "i a\n",
      "a v\n",
      "v a\n",
      "i s\n",
      "s a\n",
      "a b\n",
      "b e\n",
      "e l\n",
      "l l\n",
      "l a\n"
     ]
    }
   ],
   "source": [
    "for name in data[:4]:\n",
    "    for i in range(len(name) - 1):\n",
    "        print(name[i], name[i + 1])"
   ]
  },
  {
   "cell_type": "markdown",
   "id": "97385b9a",
   "metadata": {},
   "source": [
    "Creating a lookup table for characters."
   ]
  },
  {
   "cell_type": "code",
   "execution_count": 5,
   "id": "e672cb05",
   "metadata": {},
   "outputs": [
    {
     "data": {
      "text/plain": [
       "{0: 'a',\n",
       " 1: 'b',\n",
       " 2: 'c',\n",
       " 3: 'd',\n",
       " 4: 'e',\n",
       " 5: 'f',\n",
       " 6: 'g',\n",
       " 7: 'h',\n",
       " 8: 'i',\n",
       " 9: 'j',\n",
       " 10: 'k',\n",
       " 11: 'l',\n",
       " 12: 'm',\n",
       " 13: 'n',\n",
       " 14: 'o',\n",
       " 15: 'p',\n",
       " 16: 'q',\n",
       " 17: 'r',\n",
       " 18: 's',\n",
       " 19: 't',\n",
       " 20: 'u',\n",
       " 21: 'v',\n",
       " 22: 'w',\n",
       " 23: 'x',\n",
       " 24: 'y',\n",
       " 25: 'z',\n",
       " 26: '<S>',\n",
       " 27: '<E>'}"
      ]
     },
     "execution_count": 5,
     "metadata": {},
     "output_type": "execute_result"
    }
   ],
   "source": [
    "chars = ['a', 'b', 'c', 'd', 'e', 'f', 'g', 'h', 'i', 'j', 'k', 'l', 'm', 'n', 'o', 'p', 'q', 'r', 's', 't', 'u', 'v', 'w', 'x', 'y', 'z']\n",
    "stringtoint = {s:i for i,s in enumerate(chars)}\n",
    "stringtoint[\"<S>\"] = 26\n",
    "stringtoint[\"<E>\"] = 27\n",
    "inttostring = {i: s for i,s in enumerate(chars)}\n",
    "inttostring[26] = \"<S>\"\n",
    "inttostring[27] = \"<E>\"\n",
    "inttostring"
   ]
  },
  {
   "cell_type": "markdown",
   "id": "5367b65f",
   "metadata": {},
   "source": [
    "Creating a 2-d tensor/array which contains how often a letter is followed by another. For example, to see if \"a\" is followed by \"b\" we would look at counts[1, 2]."
   ]
  },
  {
   "cell_type": "code",
   "execution_count": 6,
   "id": "9ee05371",
   "metadata": {},
   "outputs": [],
   "source": [
    "counts = torch.zeros((28,28), dtype=torch.int32)\n",
    "for name in data:\n",
    "    name_letters = [\"<S>\"] + list(name) + [\"<E>\"]\n",
    "    for letter1, letter2 in zip(name_letters, name_letters[1:]):\n",
    "        i1 = stringtoint[letter1]\n",
    "        i2 = stringtoint[letter2]\n",
    "        counts[i1, i2] +=1"
   ]
  },
  {
   "cell_type": "code",
   "execution_count": 7,
   "id": "d3f44663",
   "metadata": {},
   "outputs": [
    {
     "data": {
      "text/plain": [
       "<matplotlib.image.AxesImage at 0x7fb8c88f58e0>"
      ]
     },
     "execution_count": 7,
     "metadata": {},
     "output_type": "execute_result"
    },
    {
     "data": {
      "image/png": "[encoded data removed]",
      "text/plain": [
       "<Figure size 640x480 with 1 Axes>"
      ]
     },
     "metadata": {},
     "output_type": "display_data"
    }
   ],
   "source": [
    "plt.imshow(counts)"
   ]
  },
  {
   "cell_type": "code",
   "execution_count": 8,
   "id": "f064699f",
   "metadata": {},
   "outputs": [
    {
     "data": {
      "text/plain": [
       "tensor([ 556,  541,  470, 1042,  692,  134,  168, 2332, 1650,  175,  568, 2528,\n",
       "        1634, 5438,   63,   82,   60, 3264, 1118,  687,  381,  834,  161,  182,\n",
       "        2050,  435,    0, 6640], dtype=torch.int32)"
      ]
     },
     "execution_count": 8,
     "metadata": {},
     "output_type": "execute_result"
    }
   ],
   "source": [
    "counts[0, :]"
   ]
  },
  {
   "cell_type": "markdown",
   "id": "6cf95071",
   "metadata": {},
   "source": [
    "Creating probability mapping to sample bigrams from."
   ]
  },
  {
   "cell_type": "code",
   "execution_count": 9,
   "id": "2bbc6192",
   "metadata": {},
   "outputs": [
    {
     "data": {
      "text/plain": [
       "tensor([0.0164, 0.0160, 0.0139, 0.0308, 0.0204, 0.0040, 0.0050, 0.0688, 0.0487,\n",
       "        0.0052, 0.0168, 0.0746, 0.0482, 0.1605, 0.0019, 0.0024, 0.0018, 0.0963,\n",
       "        0.0330, 0.0203, 0.0112, 0.0246, 0.0048, 0.0054, 0.0605, 0.0128, 0.0000,\n",
       "        0.1960])"
      ]
     },
     "execution_count": 9,
     "metadata": {},
     "output_type": "execute_result"
    }
   ],
   "source": [
    "probability_map = counts[0].float()\n",
    "probability_map /= probability_map.sum()\n",
    "probability_map"
   ]
  },
  {
   "cell_type": "markdown",
   "id": "fd0323d8",
   "metadata": {},
   "source": [
    "Example of sampling. We feed in the distribution created by the probability map and use torch.multinomial to sample from this given distribtuon. "
   ]
  },
  {
   "cell_type": "code",
   "execution_count": 10,
   "id": "e7118445",
   "metadata": {},
   "outputs": [
    {
     "data": {
      "text/plain": [
       "'m'"
      ]
     },
     "execution_count": 10,
     "metadata": {},
     "output_type": "execute_result"
    }
   ],
   "source": [
    "ind = torch.multinomial(probability_map, num_samples=1, replacement=True).item()\n",
    "inttostring[ind]"
   ]
  },
  {
   "cell_type": "markdown",
   "id": "0d037535",
   "metadata": {},
   "source": [
    "For some efficiency and practice, notice that we are taking row-wise sums and dividing them constantly on each iteration. Note that keepdim=True. This allows for normalization across the rows. If we left it out, it would normalize the columns, because of broadcasting semantics."
   ]
  },
  {
   "cell_type": "code",
   "execution_count": 11,
   "id": "aeb15a38",
   "metadata": {},
   "outputs": [],
   "source": [
    "P = counts.float()\n",
    "P /= P.sum(1, keepdim=True)"
   ]
  },
  {
   "cell_type": "code",
   "execution_count": 12,
   "id": "5b0cb359",
   "metadata": {},
   "outputs": [
    {
     "data": {
      "text/plain": [
       "tensor(1.)"
      ]
     },
     "execution_count": 12,
     "metadata": {},
     "output_type": "execute_result"
    }
   ],
   "source": [
    "P[0].sum()"
   ]
  },
  {
   "cell_type": "markdown",
   "id": "04ebbd8e",
   "metadata": {},
   "source": [
    "Establishing loop to create probability distribution for each letter. Also samples some names."
   ]
  },
  {
   "cell_type": "code",
   "execution_count": 13,
   "id": "a843ef7c",
   "metadata": {},
   "outputs": [
    {
     "name": "stdout",
     "output_type": "stream",
     "text": [
      "le<E>\n",
      "al<E>\n",
      "gar<E>\n",
      "khth<E>\n",
      "maeie<E>\n",
      "mamaizi<E>\n",
      "shayszirla<E>\n",
      "tamon<E>\n",
      "erkan<E>\n",
      "yndoosk<E>\n"
     ]
    }
   ],
   "source": [
    "for i in range(10): \n",
    "    idx = 26\n",
    "    out = []\n",
    "    while True:\n",
    "    \n",
    "        p = P[idx]\n",
    "        \n",
    "        #next index is randomly sampled from probability distribution from preceding letter\n",
    "        idx = torch.multinomial(p, num_samples=1, replacement=True).item()\n",
    "        out.append(inttostring[idx])\n",
    "        if idx == 27:\n",
    "            break\n",
    "    print(''.join(out))"
   ]
  },
  {
   "cell_type": "markdown",
   "id": "2e727a0c",
   "metadata": {},
   "source": [
    "We will now incorporate the idea of loss into our model. We will do this by using log likelihood (ie we take the product of all probabilities output from our model and then compare it with that of our training set. if it's close to 0, thats good if its more negative then that's bad). To follow the semantics of loss (where less is better), we will minimize the negative log likelihood. For the sake of this bigram model we can just evaluate the quality of the model. "
   ]
  },
  {
   "cell_type": "code",
   "execution_count": 14,
   "id": "31cfaa83",
   "metadata": {},
   "outputs": [
    {
     "name": "stdout",
     "output_type": "stream",
     "text": [
      "tensor(2.4541)\n"
     ]
    }
   ],
   "source": [
    "ll = 0.0\n",
    "n = 0\n",
    "\n",
    "for name in data:\n",
    "    name_letters = [\"<S>\"] + list(name) + [\"<E>\"]\n",
    "    for letter1, letter2 in zip(name_letters, name_letters[1:]):\n",
    "        i1 = stringtoint[letter1]\n",
    "        i2 = stringtoint[letter2]\n",
    "        prob = P[i1, i2]\n",
    "        log_prob = torch.log(prob)\n",
    "        ll += log_prob\n",
    "        n +=1\n",
    "\n",
    "nll = -1 * ll\n",
    "average_neg_log_likelihood = nll/n\n",
    "print(average_neg_log_likelihood)"
   ]
  },
  {
   "cell_type": "markdown",
   "id": "86fead2e",
   "metadata": {},
   "source": [
    "## Part 2: Basic Neural Network"
   ]
  },
  {
   "cell_type": "markdown",
   "id": "f94c3245",
   "metadata": {},
   "source": [
    "We will be using a basic neural network and gradient based optimization rather than markov assumptions to come to a similar name generation state. "
   ]
  },
  {
   "cell_type": "code",
   "execution_count": 15,
   "id": "206192ef",
   "metadata": {},
   "outputs": [],
   "source": [
    "#creating a training set with inputs and outputs. Keep in mind that the input to the neural network will be a single character and the output will be the probability distribution that the subsequent character will be chosen from.\n",
    "\n",
    "x, y = [], []\n",
    "for name in data:\n",
    "    name_letters = [\"<S>\"] + list(name) + [\"<E>\"]\n",
    "    for letter1, letter2 in zip(name_letters, name_letters[1:]):\n",
    "        i1 = stringtoint[letter1]\n",
    "        i2 = stringtoint[letter2]\n",
    "        x.append(i1)\n",
    "        y.append(i2)\n",
    "\n",
    "x = torch.tensor(x)\n",
    "y = torch.tensor(y)\n",
    "        "
   ]
  },
  {
   "cell_type": "code",
   "execution_count": 16,
   "id": "25b69603",
   "metadata": {},
   "outputs": [
    {
     "data": {
      "text/plain": [
       "tensor([26,  4, 12,  ..., 24, 25, 23])"
      ]
     },
     "execution_count": 16,
     "metadata": {},
     "output_type": "execute_result"
    }
   ],
   "source": [
    "x"
   ]
  },
  {
   "cell_type": "code",
   "execution_count": 17,
   "id": "6dd4d37d",
   "metadata": {},
   "outputs": [
    {
     "data": {
      "text/plain": [
       "tensor([ 4, 12, 12,  ..., 25, 23, 27])"
      ]
     },
     "execution_count": 17,
     "metadata": {},
     "output_type": "execute_result"
    }
   ],
   "source": [
    "y"
   ]
  },
  {
   "cell_type": "markdown",
   "id": "78f293e0",
   "metadata": {},
   "source": [
    "We will need to do one hot encoding on the input to make is \"passable\" into a neural network"
   ]
  },
  {
   "cell_type": "code",
   "execution_count": 18,
   "id": "9406c51f",
   "metadata": {},
   "outputs": [],
   "source": [
    "import torch.nn.functional as F"
   ]
  },
  {
   "cell_type": "markdown",
   "id": "b45aa0ad",
   "metadata": {},
   "source": [
    "Based on the gradient descent algorithm, we run 10 iterations to try and minimize our negative log likelihood loss. "
   ]
  },
  {
   "cell_type": "code",
   "execution_count": 19,
   "id": "b68d2bea",
   "metadata": {},
   "outputs": [],
   "source": [
    "W = torch.randn((28, 28), requires_grad=True)"
   ]
  },
  {
   "cell_type": "code",
   "execution_count": 20,
   "id": "7152162f",
   "metadata": {},
   "outputs": [
    {
     "name": "stdout",
     "output_type": "stream",
     "text": [
      "2.4937784671783447\n"
     ]
    }
   ],
   "source": [
    "for i in range(100):\n",
    "    x_encoded = F.one_hot(x, num_classes=28).float()\n",
    "    logits = x_encoded @ W\n",
    "\n",
    "    #Forward pass. the following two lines specifically are a manual representation of the soft-max activation function\n",
    "    pseudo_counts = logits.exp()\n",
    "    probs = pseudo_counts / pseudo_counts.sum(1, keepdims=True)\n",
    "    loss = -probs[torch.arange(228146), y].log().mean() + 0.01*(W**2).mean() #the added on part of loss is regularization (smoothing out the probability distribution)\n",
    "\n",
    "    #backward pass\n",
    "    W.grad = None # sets gradients to 0\n",
    "    loss.backward()\n",
    "    #manual update\n",
    "    W.data += -50 * W.grad\n",
    "print(loss.item())"
   ]
  },
  {
   "cell_type": "markdown",
   "id": "94091f5b",
   "metadata": {},
   "source": [
    "The biggest advantage of the neural net over its bigram counterpart is the scalability. Adding another layer of complexity to the bigram model by \"adding memory\" (ie changing how many letters are taken into consideration to determine the next layer) becomes a bottleneck. However, for neural networks, we can scale up and add complexity relatively easily."
   ]
  },
  {
   "cell_type": "code",
   "execution_count": 21,
   "id": "15fe721b",
   "metadata": {},
   "outputs": [
    {
     "name": "stdout",
     "output_type": "stream",
     "text": [
      "arja<E>\n",
      "grra<E>\n",
      "wahrn<E>\n",
      "<E>\n",
      "nato<E>\n"
     ]
    }
   ],
   "source": [
    "#sampling from our neural net\n",
    "\n",
    "for i in range(5):\n",
    "    out=[]\n",
    "    index = 26\n",
    "    while True:\n",
    "        xenc = F.one_hot(torch.tensor([index]), num_classes=28).float()\n",
    "        logits = xenc @ W\n",
    "        coun = logits.exp()\n",
    "        p = coun/coun.sum(1, keepdims=True)\n",
    "        \n",
    "        index = torch.multinomial(p, num_samples=1, replacement=True).item()\n",
    "        out.append(inttostring[index])\n",
    "        if index == 27:\n",
    "            break\n",
    "    print(''.join(out))"
   ]
  },
  {
   "cell_type": "code",
   "execution_count": null,
   "id": "da00241c",
   "metadata": {},
   "outputs": [],
   "source": []
  }
 ],
 "metadata": {
  "kernelspec": {
   "display_name": "Python 3 (ipykernel)",
   "language": "python",
   "name": "python3"
  },
  "language_info": {
   "codemirror_mode": {
    "name": "ipython",
    "version": 3
   },
   "file_extension": ".py",
   "mimetype": "text/x-python",
   "name": "python",
   "nbconvert_exporter": "python",
   "pygments_lexer": "ipython3",
   "version": "3.9.13"
  }
 },
 "nbformat": 4,
 "nbformat_minor": 5
}
