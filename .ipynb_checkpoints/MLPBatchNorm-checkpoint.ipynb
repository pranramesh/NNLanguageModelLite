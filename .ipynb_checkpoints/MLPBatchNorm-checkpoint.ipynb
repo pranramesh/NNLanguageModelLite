{
 "cells": [
  {
   "cell_type": "markdown",
   "id": "547bf0b0",
   "metadata": {},
   "source": [
    "## Adding Batch Normalization to MLP"
   ]
  },
  {
   "cell_type": "markdown",
   "id": "3d5f7492",
   "metadata": {},
   "source": [
    "The following code is simply cleaner starter code from the MLP notebook. In this notebook, we will be diving deeper into improvements on the MLP so that we can gradually ramp up into RNN's and GRU's."
   ]
  },
  {
   "cell_type": "code",
   "execution_count": 1,
   "id": "5331bc78",
   "metadata": {},
   "outputs": [],
   "source": [
    "import torch\n",
    "import torch.nn.functional as F\n",
    "import matplotlib.pyplot as plt # for making figures"
   ]
  },
  {
   "cell_type": "code",
   "execution_count": 2,
   "id": "e2a844e0",
   "metadata": {},
   "outputs": [
    {
     "data": {
      "text/plain": [
       "['emma', 'olivia', 'ava', 'isabella', 'sophia', 'charlotte', 'mia', 'amelia']"
      ]
     },
     "execution_count": 2,
     "metadata": {},
     "output_type": "execute_result"
    }
   ],
   "source": [
    "# read in all the words\n",
    "data = open('names.txt', 'r').read().splitlines()\n",
    "data[:8]"
   ]
  },
  {
   "cell_type": "code",
   "execution_count": 3,
   "id": "52f42ba7",
   "metadata": {},
   "outputs": [
    {
     "name": "stdout",
     "output_type": "stream",
     "text": [
      "{1: 'a', 2: 'b', 3: 'c', 4: 'd', 5: 'e', 6: 'f', 7: 'g', 8: 'h', 9: 'i', 10: 'j', 11: 'k', 12: 'l', 13: 'm', 14: 'n', 15: 'o', 16: 'p', 17: 'q', 18: 'r', 19: 's', 20: 't', 21: 'u', 22: 'v', 23: 'w', 24: 'x', 25: 'y', 26: 'z', 0: '.'}\n"
     ]
    }
   ],
   "source": [
    "chars = sorted(list(set(''.join(data))))\n",
    "stringtoint = {s:i+1 for i,s in enumerate(chars)}\n",
    "stringtoint['.'] = 0\n",
    "inttostring = {i:s for s,i in stringtoint.items()}\n",
    "vocab_size = len(inttostring)\n",
    "print(inttostring)"
   ]
  },
  {
   "cell_type": "code",
   "execution_count": 4,
   "id": "1cdddac4",
   "metadata": {},
   "outputs": [
    {
     "name": "stdout",
     "output_type": "stream",
     "text": [
      "torch.Size([182625, 3]) torch.Size([182625])\n",
      "torch.Size([22655, 3]) torch.Size([22655])\n",
      "torch.Size([22866, 3]) torch.Size([22866])\n"
     ]
    }
   ],
   "source": [
    "# build the dataset\n",
    "block_size = 3 # context length: how many characters do we take to predict the next one?\n",
    "\n",
    "def build_dataset(words):  \n",
    "  X, Y = [], []\n",
    "  \n",
    "  for w in words:\n",
    "    context = [0] * block_size\n",
    "    for ch in w + '.':\n",
    "      ix = stringtoint[ch]\n",
    "      X.append(context)\n",
    "      Y.append(ix)\n",
    "      context = context[1:] + [ix] # crop and append\n",
    "\n",
    "  X = torch.tensor(X)\n",
    "  Y = torch.tensor(Y)\n",
    "  print(X.shape, Y.shape)\n",
    "  return X, Y\n",
    "\n",
    "import random\n",
    "random.seed(42)\n",
    "random.shuffle(data)\n",
    "n1 = int(0.8*len(data))\n",
    "n2 = int(0.9*len(data))\n",
    "\n",
    "Xtr,  Ytr  = build_dataset(data[:n1])     # 80%\n",
    "Xdev, Ydev = build_dataset(data[n1:n2])   # 10%\n",
    "Xte,  Yte  = build_dataset(data[n2:])     # 10%"
   ]
  },
  {
   "cell_type": "markdown",
   "id": "7602254b",
   "metadata": {},
   "source": [
    "One problem that we notice in our model is that the initial loss is way too high (around 30). Why is this a problem? Well ideally, we'd expect the weight initialization to not give very extreme values for the logits (counts) which would cause the first iteration to have extremely high loss. Normally, we would expect a neural network that hasn't been trained to uniformly pick from the possible logits (as it has no info on which character is more likely so it samples via uniform distribution). We do this by altering initializations accordingly. "
   ]
  },
  {
   "cell_type": "markdown",
   "id": "592b1d5c",
   "metadata": {},
   "source": [
    "To ensure that the initializations of our weight matrices (W1, W2) are unit Gaussian rather than having a scaled down standard dev, we should multiply by gain/sqrt(fan_in), which is based of the Kaiming et al. paper. For W1, we would multiply the weight matrix by 5/3 (which is the gain) divided by sqrt(fan_in) where fan_in is 30 (because our embedding is 10 dimensions and we have 3 of them as shown in the paper). "
   ]
  },
  {
   "cell_type": "code",
   "execution_count": 15,
   "id": "d8c25eef",
   "metadata": {},
   "outputs": [
    {
     "name": "stdout",
     "output_type": "stream",
     "text": [
      "12097\n"
     ]
    }
   ],
   "source": [
    "#MLP Model\n",
    "\n",
    "n_embd = 10 # the dimensionality of the character embedding vectors\n",
    "n_hidden = 200 # the number of neurons in the hidden layer of the MLP\n",
    "\n",
    "C  = torch.randn((27, n_embd))\n",
    "W1 = torch.randn((n_embd * block_size, n_hidden)) * 5/3 * 1/((n_embd * block_size)**0.5) #kaiming initialization\n",
    "#b1 = torch.randn(n_hidden) * 0.01 Why not needed?: In batch normalization the biases for linear layers prior to activation actually don't have any impact because we end up subtracting it out when normalizing. This saves compute. Bias is introduced when we do batch normalization anyway (bnbias) so no need to be wasteful.\n",
    "W2 = torch.randn((n_hidden, 27)) * 0.01 #scales down W2 so that logits aren't extremely crazy values. Think about why this isn't zero.\n",
    "b2 = torch.randn(27) * 0 #removes unnecessary bias at initialization\n",
    "\n",
    "bngain = torch.ones((1, n_hidden)) # we need this so our model isn't \"forcing\" our predictions ot be unit gaussian. This is only a trait we desire at initialization and we want backprop to tell us the impact of each neuron rather than making it gaussian. They are trained/learned via backprop. \n",
    "bnbias = torch.zeros((1, n_hidden))\n",
    "running_bnmean = torch.zeros((1, n_hidden))\n",
    "running_bnstd = torch.ones((1, n_hidden))\n",
    "\n",
    "parameters = [C, W1, W2, b2, bngain, bnbias]\n",
    "print(sum(p.nelement() for p in parameters)) # number of parameters in total\n",
    "for p in parameters:\n",
    "  p.requires_grad = True"
   ]
  },
  {
   "cell_type": "markdown",
   "id": "dc14acf7",
   "metadata": {},
   "source": [
    "NOW, for Batch Normalization. Remember the part where we initialized our weights via Kaiming initialization? What if we just directly normalized our pre-activation hidden layer? Turns out we can, as its differentiable and will end up giving us the unit gaussian we desire."
   ]
  },
  {
   "cell_type": "code",
   "execution_count": 16,
   "id": "d0b7aea4",
   "metadata": {},
   "outputs": [
    {
     "name": "stdout",
     "output_type": "stream",
     "text": [
      "1.7707327604293823\n"
     ]
    }
   ],
   "source": [
    "steps = 30000\n",
    "batch_size = 32\n",
    "loss_i = []\n",
    "\n",
    "for i in range(steps):\n",
    "    \n",
    "    #minibatch construction: The idea behind minibatches is that its much better to compute the approximate gradient and make many more steps than to compute the exact gradient and take fewer steps.\n",
    "    ix = torch.randint(0, Xtr.shape[0], (batch_size,))\n",
    "    \n",
    "    \n",
    "    #forward pass\n",
    "    embed = C[Xtr[ix]]\n",
    "    \n",
    "    #Linear layer\n",
    "    h_pre_activation = embed.view(embed.shape[0], (embed.shape[1] * embed.shape[2])) @ W1 #+ b1\n",
    "    \n",
    "    #Batch normalization layer\n",
    "    bnmean_i = h_pre_activation.mean(0, keepdim=True)\n",
    "    bnstd_i = h_pre_activation.std(0, keepdim=True)\n",
    "    h_pre_activation = bngain * (h_pre_activation - bnmean_i) / bnstd_i + bnbias #Batch normalization. We are normalizing each batch of size 32. See initialization block for note on bngain and bnbias. \n",
    "    with torch.no_grad(): \n",
    "        running_bnmean = 0.999 * running_bnmean + 0.001 * bnmean_i\n",
    "        running_bnstd = 0.999 * running_bnstd + 0.001 * bnstd_i\n",
    "        \n",
    "    h = torch.tanh(h_pre_activation)\n",
    "    logits = h@W2 + b2\n",
    "    loss = F.cross_entropy(logits, Ytr[ix])\n",
    "    \n",
    "    #backward pass\n",
    "    for p in parameters:\n",
    "        p.grad = None\n",
    "    loss.backward()\n",
    "    \n",
    "    #update\n",
    "    lr = 0.1 #note: once we see that the current lr isn't making a dent in the loss, we can decay it to a smaller value. Think about why this makes sense intuitively. (it's because when we're deep in the valley we want to make smaller steps to converge on the minimum)\n",
    "    for p in parameters:\n",
    "        p.data += -lr * p.grad\n",
    "    \n",
    "    #stats\n",
    "    loss_i.append(loss.log10().item())\n",
    "print(loss.item())"
   ]
  },
  {
   "cell_type": "markdown",
   "id": "0da6a8d3",
   "metadata": {},
   "source": [
    "Another optimization we can perform centers around our tanh squishification function. Recall that tanh smoothly squishes values between -1 and 1. But if we look at the output from our activation layer, we see that the values concentrate at the extrema (-1, and 1). Why is this bad? During backpropagation, we will actually be \"stopping the gradient.\" When we apply chain rule during backprop, the first derivative of tanh gets sent to 0 if the input is 1 or -1. We are in a flat region of the tanh function (near 1 or -1), where changing the input will not meaningfully impact the loss. This can cause what is known as a dead neuron. We can fix this by scaling down W1 and doing the same with b1. This will allow the preactivation layer (before tanh is applied) to not have crazy extreme values. "
   ]
  },
  {
   "cell_type": "code",
   "execution_count": 7,
   "id": "6b7401a6",
   "metadata": {
    "scrolled": true
   },
   "outputs": [
    {
     "data": {
      "text/plain": [
       "[<matplotlib.lines.Line2D at 0x7f89c35f3ac0>]"
      ]
     },
     "execution_count": 7,
     "metadata": {},
     "output_type": "execute_result"
    },
    {
     "data": {
      "image/png": "[encoded data removed]",
      "text/plain": [
       "<Figure size 640x480 with 1 Axes>"
      ]
     },
     "metadata": {},
     "output_type": "display_data"
    }
   ],
   "source": [
    "plt.plot(loss_i)"
   ]
  },
  {
   "cell_type": "markdown",
   "id": "88fab92b",
   "metadata": {},
   "source": [
    "Notice how our loss from above doesn't look like a hockey stick anymore with an extremely high drop off in loss after the first few iterations. This is good because in the beginning, the neural network is doing the easy part, and just learning to scale down the logits, which isn't real learning. The real learning occurs after this happens so we manually cut out that part by scaling down W2. Now we see a lot more noisy loss, but we can optimize on this to improve our model's performance."
   ]
  },
  {
   "cell_type": "markdown",
   "id": "661c5e38",
   "metadata": {},
   "source": [
    "Sampling from model"
   ]
  },
  {
   "cell_type": "code",
   "execution_count": 14,
   "id": "52c0b97b",
   "metadata": {},
   "outputs": [
    {
     "name": "stdout",
     "output_type": "stream",
     "text": [
      "jaideon.\n",
      "naya.\n",
      "saaya.\n",
      "ella.\n",
      "jael.\n",
      "kar.\n",
      "velek.\n",
      "amyla.\n",
      "kari.\n",
      "bow.\n",
      "lor.\n",
      "mel.\n",
      "phnissa.\n",
      "kate.\n",
      "nawy.\n",
      "cholty.\n",
      "vani.\n",
      "kael.\n",
      "kyna.\n",
      "nayda.\n"
     ]
    }
   ],
   "source": [
    "for _ in range(20):\n",
    "    \n",
    "    out = []\n",
    "    context = [0] * block_size # initialize with all ...\n",
    "    while True:\n",
    "      emb = C[torch.tensor([context])] # (1,block_size,d)\n",
    "      h = torch.tanh(emb.view(1, -1) @ W1 + b1)\n",
    "      logits = h @ W2 + b2\n",
    "      probs = F.softmax(logits, dim=1)\n",
    "      ix = torch.multinomial(probs, num_samples=1).item()\n",
    "      context = context[1:] + [ix]\n",
    "      out.append(ix)\n",
    "      if ix == 0:\n",
    "        break\n",
    "    \n",
    "    print(''.join(inttostring[i] for i in out))"
   ]
  },
  {
   "cell_type": "markdown",
   "id": "67b28bf3",
   "metadata": {},
   "source": [
    "After we did a simple fix on the softmax (scaling down W2 and b2), this allowed for more productive learning because the first few iterations were not spent trying to just scale down W2 and b2 to minimize loss, but rather spent on meaningful learning. We improved this further by fixing the over-saturation of tanh at the extrema (by scaling down W1 and b1), which prevented dead neurons and allowed for more \"learning\" to occur because gradients were able to be properly expressed in backprop. The output above just shows howo much better the names are after making these tiny changes. After adding batch normalization, which is a cohesive way to control the \"statistics\" of our activations (ie making them unit gaussian to avoid the problems such as dead neurons and inefficient training), training loss drops. However, it is often not used in production due to the numerous amount of bugs that it brings due to the fact that its coupling batches when calculating the mean and std. Alternatives include layer normalization or group normalization. "
   ]
  },
  {
   "cell_type": "markdown",
   "id": "b000c840",
   "metadata": {},
   "source": [
    "Below, we will fully modularize/PyTorchify the code so it resembles PyTorch code in a more production-like setting."
   ]
  },
  {
   "cell_type": "code",
   "execution_count": null,
   "id": "6b9eaae0",
   "metadata": {},
   "outputs": [],
   "source": []
  }
 ],
 "metadata": {
  "kernelspec": {
   "display_name": "Python 3 (ipykernel)",
   "language": "python",
   "name": "python3"
  },
  "language_info": {
   "codemirror_mode": {
    "name": "ipython",
    "version": 3
   },
   "file_extension": ".py",
   "mimetype": "text/x-python",
   "name": "python",
   "nbconvert_exporter": "python",
   "pygments_lexer": "ipython3",
   "version": "3.9.13"
  }
 },
 "nbformat": 4,
 "nbformat_minor": 5
}
